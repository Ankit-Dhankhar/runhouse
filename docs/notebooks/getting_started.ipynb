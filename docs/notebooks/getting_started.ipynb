{
<<<<<<< HEAD
  "nbformat": 4,
  "nbformat_minor": 0,
  "metadata": {
    "colab": {
      "provenance": []
    },
    "kernelspec": {
      "name": "python3",
      "display_name": "Python 3"
    },
    "language_info": {
      "name": "python"
    }
  },
  "cells": [
    {
      "cell_type": "markdown",
=======
  "cells": [
    {
      "cell_type": "markdown",
      "metadata": {
        "id": "T6jahmb2LK8t"
      },
>>>>>>> 0841b2d (add docs/notebook folder for ipynb)
      "source": [
        "# Getting Started Example\n",
        "\n",
        "In this basic getting started example, we demonstrate how you can use Runhouse to bridge the gap\n",
        "between local and remote compute, and create Resources that can be saved, reused, and shared.\n",
        "\n",
        "For instructions on installing Runhouse and setting up compute prior to running this example,\n",
        "please first refer to the `Installation and Setup Guide`."
<<<<<<< HEAD
      ],
      "metadata": {
        "id": "T6jahmb2LK8t"
      }
    },
    {
      "cell_type": "markdown",
      "source": [
        "To import runhouse:"
      ],
      "metadata": {
        "id": "L_OOYBCaM34a"
      }
    },
    {
      "cell_type": "code",
      "source": [
        "!pip install runhouse"
      ],
      "metadata": {
        "id": "GUdtO1mrLSmy"
      },
      "execution_count": null,
      "outputs": []
    },
    {
      "cell_type": "code",
      "source": [
        "import runhouse as rh"
      ],
=======
      ]
    },
    {
      "cell_type": "markdown",
      "metadata": {
        "id": "L_OOYBCaM34a"
      },
      "source": [
        "To import runhouse:"
      ]
    },
    {
      "cell_type": "code",
      "execution_count": null,
      "metadata": {
        "id": "GUdtO1mrLSmy"
      },
      "outputs": [],
      "source": [
        "!pip install runhouse"
      ]
    },
    {
      "cell_type": "code",
      "execution_count": null,
>>>>>>> 0841b2d (add docs/notebook folder for ipynb)
      "metadata": {
        "colab": {
          "base_uri": "https://localhost:8080/"
        },
        "id": "rBCZ3zs5M77k",
        "outputId": "5b5b2396-e2e6-4b01-9fcf-32836051cff5"
      },
<<<<<<< HEAD
      "execution_count": null,
      "outputs": [
        {
          "output_type": "stream",
          "name": "stdout",
=======
      "outputs": [
        {
          "name": "stdout",
          "output_type": "stream",
>>>>>>> 0841b2d (add docs/notebook folder for ipynb)
          "text": [
            "INFO | 2023-05-05 14:00:38,869 | No auth token provided, so not using RNS API to save and load configs\n",
            "INFO | 2023-05-05 14:00:39,666 | NumExpr defaulting to 2 threads.\n"
          ]
        }
<<<<<<< HEAD
=======
      ],
      "source": [
        "import runhouse as rh"
>>>>>>> 0841b2d (add docs/notebook folder for ipynb)
      ]
    },
    {
      "cell_type": "code",
<<<<<<< HEAD
      "source": [
        "# Optional: to sync over secrets from your Runhouse account\n",
        "# !runhouse login"
      ],
      "metadata": {
        "id": "YwJCuJ7dOAUA"
      },
      "execution_count": null,
      "outputs": []
    },
    {
      "cell_type": "markdown",
=======
      "execution_count": null,
      "metadata": {
        "id": "YwJCuJ7dOAUA"
      },
      "outputs": [],
      "source": [
        "# Optional: to sync over secrets from your Runhouse account\n",
        "# !runhouse login"
      ]
    },
    {
      "cell_type": "markdown",
      "metadata": {
        "id": "f8Upr8mTSaBr"
      },
>>>>>>> 0841b2d (add docs/notebook folder for ipynb)
      "source": [
        "## Running local functions on remote hardware\n",
        "\n",
        "First let's define a simple local function which returns the number of CPUs available.\n"
<<<<<<< HEAD
      ],
      "metadata": {
        "id": "f8Upr8mTSaBr"
      }
    },
    {
      "cell_type": "code",
      "source": [
        "def num_cpus():\n",
        "    import multiprocessing\n",
        "    return f\"Num cpus: {multiprocessing.cpu_count()}\"\n",
        "\n",
        "num_cpus()"
      ],
=======
      ]
    },
    {
      "cell_type": "code",
      "execution_count": null,
>>>>>>> 0841b2d (add docs/notebook folder for ipynb)
      "metadata": {
        "colab": {
          "base_uri": "https://localhost:8080/",
          "height": 35
        },
        "id": "kfjHzH0PM-4l",
        "outputId": "10e6f0ab-47a9-493e-8e2f-12e6e8360e01"
      },
<<<<<<< HEAD
      "execution_count": null,
      "outputs": [
        {
          "output_type": "execute_result",
          "data": {
            "text/plain": [
              "'Num cpus: 2'"
            ],
            "application/vnd.google.colaboratory.intrinsic+json": {
              "type": "string"
            }
          },
          "metadata": {},
          "execution_count": 20
        }
=======
      "outputs": [
        {
          "data": {
            "application/vnd.google.colaboratory.intrinsic+json": {
              "type": "string"
            },
            "text/plain": [
              "'Num cpus: 2'"
            ]
          },
          "execution_count": 20,
          "metadata": {},
          "output_type": "execute_result"
        }
      ],
      "source": [
        "def num_cpus():\n",
        "    import multiprocessing\n",
        "    return f\"Num cpus: {multiprocessing.cpu_count()}\"\n",
        "\n",
        "num_cpus()"
>>>>>>> 0841b2d (add docs/notebook folder for ipynb)
      ]
    },
    {
      "cell_type": "markdown",
<<<<<<< HEAD
=======
      "metadata": {
        "id": "OAUd9tTcND2O"
      },
>>>>>>> 0841b2d (add docs/notebook folder for ipynb)
      "source": [
        "Next, instantiate the cluster that we want to run this function on. This can be either an existing\n",
        "cluster where you pass in an IP address and SSH credentials, or a cluster associated with supported\n",
        "Cloud account (AWS, GCP, Azure, LambdaLabs), where it is automatically launched (and optionally\n",
        "terminated) for you."
<<<<<<< HEAD
      ],
      "metadata": {
        "id": "OAUd9tTcND2O"
      }
    },
    {
      "cell_type": "code",
=======
      ]
    },
    {
      "cell_type": "code",
      "execution_count": null,
      "metadata": {
        "colab": {
          "base_uri": "https://localhost:8080/"
        },
        "id": "0lhcrbu8NIeI",
        "outputId": "a146334f-0c44-4a63-d9d1-6beae4f5ebbe"
      },
      "outputs": [
        {
          "name": "stdout",
          "output_type": "stream",
          "text": [
            "INFO | 2023-05-05 14:02:33,950 | Loaded Runhouse config from /root/.rh/config.yaml\n",
            "INFO | 2023-05-05 14:02:33,956 | Attempting to load config for /carolineechen/cpu-cluster from RNS.\n",
            "INFO | 2023-05-05 14:02:34,754 | No config found in RNS: {'detail': 'Resource does not exist'}\n"
          ]
        }
      ],
>>>>>>> 0841b2d (add docs/notebook folder for ipynb)
      "source": [
        "# Using an existing, bring-your-own cluster\n",
        "cluster = rh.cluster(\n",
        "              name=\"cpu-cluster\",\n",
        "              ips=['<ip of the cluster>'],\n",
        "              ssh_creds={'ssh_user': '<user>', 'ssh_private_key':'<path_to_key>'},\n",
        "          )\n",
        "\n",
        "# Using a Cloud provider\n",
        "cluster = rh.cluster(\n",
        "              name=\"cpu-cluster\",\n",
        "              instance_type=\"CPU:8\",\n",
        "              provider=\"cheapest\",      # options: \"AWS\", \"GCP\", \"Azure\", \"Lambda\", or \"cheapest\"\n",
        "          )"
<<<<<<< HEAD
      ],
      "metadata": {
        "colab": {
          "base_uri": "https://localhost:8080/"
        },
        "id": "0lhcrbu8NIeI",
        "outputId": "a146334f-0c44-4a63-d9d1-6beae4f5ebbe"
      },
      "execution_count": null,
      "outputs": [
        {
          "output_type": "stream",
          "name": "stdout",
          "text": [
            "INFO | 2023-05-05 14:02:33,950 | Loaded Runhouse config from /root/.rh/config.yaml\n",
            "INFO | 2023-05-05 14:02:33,956 | Attempting to load config for /carolineechen/cpu-cluster from RNS.\n",
            "INFO | 2023-05-05 14:02:34,754 | No config found in RNS: {'detail': 'Resource does not exist'}\n"
          ]
        }
=======
>>>>>>> 0841b2d (add docs/notebook folder for ipynb)
      ]
    },
    {
      "cell_type": "markdown",
<<<<<<< HEAD
=======
      "metadata": {
        "id": "3M2PjxEtOSnt"
      },
>>>>>>> 0841b2d (add docs/notebook folder for ipynb)
      "source": [
        "If using a cloud cluster, we can launch the cluster with `.up()` or `.up_if_not()`.\n",
        "\n",
        "Note that it may take a few minutes for the cluster to be launched through the Cloud provider and set up dependencies."
<<<<<<< HEAD
      ],
      "metadata": {
        "id": "3M2PjxEtOSnt"
      }
    },
    {
      "cell_type": "code",
      "source": [
        "cluster.up_if_not()"
      ],
      "metadata": {
        "id": "xionbLnLOLqo"
      },
      "execution_count": null,
      "outputs": []
    },
    {
      "cell_type": "markdown",
=======
      ]
    },
    {
      "cell_type": "code",
      "execution_count": null,
      "metadata": {
        "id": "xionbLnLOLqo"
      },
      "outputs": [],
      "source": [
        "cluster.up_if_not()"
      ]
    },
    {
      "cell_type": "markdown",
      "metadata": {
        "id": "ulnZR43KOnNP"
      },
>>>>>>> 0841b2d (add docs/notebook folder for ipynb)
      "source": [
        "Now that we have our function and remote cluster set up, we're ready to see how to run this function on our cluster!\n",
        "\n",
        "We wrap our local function in `rh.function`, and associate this new function with the cluster. Now, whenever we call this new function, just as we would call any other Python function, it runs on the cluster instead of local."
<<<<<<< HEAD
      ],
      "metadata": {
        "id": "ulnZR43KOnNP"
      }
    },
    {
      "cell_type": "code",
      "source": [
        "num_cpus_cluster = rh.function(name=\"num_cpus_cluster\", fn=num_cpus).to(system=cluster, reqs=[\"./\"])"
      ],
=======
      ]
    },
    {
      "cell_type": "code",
      "execution_count": null,
>>>>>>> 0841b2d (add docs/notebook folder for ipynb)
      "metadata": {
        "colab": {
          "base_uri": "https://localhost:8080/"
        },
        "id": "8iWpuuYmOutq",
        "outputId": "105e964c-a4fb-4a9d-9ca6-2cce4d914493"
      },
<<<<<<< HEAD
      "execution_count": null,
      "outputs": [
        {
          "output_type": "stream",
          "name": "stdout",
=======
      "outputs": [
        {
          "name": "stdout",
          "output_type": "stream",
>>>>>>> 0841b2d (add docs/notebook folder for ipynb)
          "text": [
            "INFO | 2023-05-05 14:31:58,659 | Attempting to load config for /carolineechen/num_cpus_cluster from RNS.\n",
            "INFO | 2023-05-05 14:31:59,470 | No config found in RNS: {'detail': 'Resource does not exist'}\n",
            "INFO | 2023-05-05 14:31:59,473 | Writing out function function to /content/num_cpus_fn.py. Please make sure the function does not rely on any local variables, including imports (which should be moved inside the function body).\n",
            "INFO | 2023-05-05 14:31:59,476 | Setting up Function on cluster.\n",
            "INFO | 2023-05-05 14:31:59,479 | Copying local package content to cluster <cpu-cluster>\n",
            "INFO | 2023-05-05 14:32:04,026 | Installing packages on cluster cpu-cluster: ['./']\n",
            "INFO | 2023-05-05 14:32:04,402 | Function setup complete.\n"
          ]
        }
<<<<<<< HEAD
=======
      ],
      "source": [
        "num_cpus_cluster = rh.function(name=\"num_cpus_cluster\", fn=num_cpus).to(system=cluster, reqs=[\"./\"])"
>>>>>>> 0841b2d (add docs/notebook folder for ipynb)
      ]
    },
    {
      "cell_type": "code",
<<<<<<< HEAD
      "source": [
        "num_cpus_cluster()"
      ],
=======
      "execution_count": null,
>>>>>>> 0841b2d (add docs/notebook folder for ipynb)
      "metadata": {
        "colab": {
          "base_uri": "https://localhost:8080/",
          "height": 70
        },
        "id": "OcbrlOwwQ5Cu",
        "outputId": "22d84787-bbcf-4149-faba-35b2c45308cc"
      },
<<<<<<< HEAD
      "execution_count": null,
      "outputs": [
        {
          "output_type": "stream",
          "name": "stdout",
=======
      "outputs": [
        {
          "name": "stdout",
          "output_type": "stream",
>>>>>>> 0841b2d (add docs/notebook folder for ipynb)
          "text": [
            "INFO | 2023-05-05 14:32:06,397 | Running num_cpus_cluster via gRPC\n",
            "INFO | 2023-05-05 14:32:06,766 | Time to send message: 0.37 seconds\n"
          ]
        },
        {
<<<<<<< HEAD
          "output_type": "execute_result",
          "data": {
            "text/plain": [
              "'Num cpus: 8'"
            ],
            "application/vnd.google.colaboratory.intrinsic+json": {
              "type": "string"
            }
          },
          "metadata": {},
          "execution_count": 24
        }
=======
          "data": {
            "application/vnd.google.colaboratory.intrinsic+json": {
              "type": "string"
            },
            "text/plain": [
              "'Num cpus: 8'"
            ]
          },
          "execution_count": 24,
          "metadata": {},
          "output_type": "execute_result"
        }
      ],
      "source": [
        "num_cpus_cluster()"
>>>>>>> 0841b2d (add docs/notebook folder for ipynb)
      ]
    },
    {
      "cell_type": "markdown",
<<<<<<< HEAD
=======
      "metadata": {
        "id": "SKn-56GFTX8g"
      },
>>>>>>> 0841b2d (add docs/notebook folder for ipynb)
      "source": [
        "## Saving, Reusing, and Sharing\n",
        "\n",
        "Runhouse supports saving down the metadata and configs for resources like clusters and functions, so that you can load them from a different environment, or share it with your collaborators."
<<<<<<< HEAD
      ],
      "metadata": {
        "id": "SKn-56GFTX8g"
      }
    },
    {
      "cell_type": "code",
      "source": [
        "num_cpus_cluster.save()"
      ],
=======
      ]
    },
    {
      "cell_type": "code",
      "execution_count": null,
>>>>>>> 0841b2d (add docs/notebook folder for ipynb)
      "metadata": {
        "colab": {
          "base_uri": "https://localhost:8080/"
        },
        "id": "lfiHzFBgURML",
        "outputId": "15c3e2bd-60c7-46c2-fe58-44dcd0486a4e"
      },
<<<<<<< HEAD
      "execution_count": null,
      "outputs": [
        {
          "output_type": "stream",
          "name": "stdout",
=======
      "outputs": [
        {
          "name": "stdout",
          "output_type": "stream",
>>>>>>> 0841b2d (add docs/notebook folder for ipynb)
          "text": [
            "INFO | 2023-05-05 14:32:31,248 | Saving config to RNS: {'name': '/carolineechen/cpu-cluster', 'resource_type': 'cluster', 'resource_subtype': 'OnDemandCluster', 'instance_type': 'CPU:8', 'num_instances': None, 'provider': 'cheapest', 'autostop_mins': 30, 'use_spot': False, 'image_id': None, 'region': None, 'sky_state': {'name': 'cpu-cluster', 'launched_at': 1683295614, 'handle': {'cluster_name': 'cpu-cluster', 'cluster_yaml': '~/.sky/generated/cpu-cluster.yml', 'head_ip': '3.87.203.10', 'launched_nodes': 1, 'launched_resources': {'cloud': 'AWS', 'instance_type': 'm6i.2xlarge', 'use_spot': False, 'disk_size': 256, 'region': 'us-east-1', 'zone': 'us-east-1a'}}, 'last_use': '/usr/local/lib/python3.10/dist-packages/ipykernel_launcher.py -f /root/.local/share/jupyter/runtime/kernel-729e54ec-f20d-48a4-8603-099468cb0df6.json', 'status': 'UP', 'autostop': 30, 'to_down': True, 'owner': 'AIDASQMZKHMBGKPSNXGMZ', 'metadata': {}, 'cluster_hash': 'b5ff32eb-425d-42af-ac6c-801be1f399de', 'public_key': '~/.ssh/sky-key.pub', 'ssh_creds': {'ssh_user': 'ubuntu', 'ssh_private_key': '~/.ssh/sky-key', 'ssh_control_name': 'cpu-cluster', 'ssh_proxy_command': None}}}\n",
            "INFO | 2023-05-05 14:32:32,079 | Config updated in RNS for Runhouse URI <resource/carolineechen:cpu-cluster>\n",
            "INFO | 2023-05-05 14:32:32,083 | Saving config to RNS: {'name': '/carolineechen/num_cpus_cluster', 'resource_type': 'function', 'resource_subtype': 'Function', 'system': '/carolineechen/cpu-cluster', 'reqs': ['./'], 'setup_cmds': [], 'fn_pointers': ('content', 'num_cpus_fn', 'num_cpus')}\n",
            "INFO | 2023-05-05 14:32:32,871 | Saving new resource in RNS for Runhouse URI <resource/carolineechen:num_cpus_cluster>\n"
          ]
        },
        {
<<<<<<< HEAD
          "output_type": "execute_result",
=======
>>>>>>> 0841b2d (add docs/notebook folder for ipynb)
          "data": {
            "text/plain": [
              "<runhouse.rns.function.Function at 0x7fb3b7ca1ff0>"
            ]
          },
<<<<<<< HEAD
          "metadata": {},
          "execution_count": 26
        }
=======
          "execution_count": 26,
          "metadata": {},
          "output_type": "execute_result"
        }
      ],
      "source": [
        "num_cpus_cluster.save()"
>>>>>>> 0841b2d (add docs/notebook folder for ipynb)
      ]
    },
    {
      "cell_type": "code",
<<<<<<< HEAD
=======
      "execution_count": null,
      "metadata": {
        "id": "zJ1-MFVaVMpy"
      },
      "outputs": [],
>>>>>>> 0841b2d (add docs/notebook folder for ipynb)
      "source": [
        "num_cpus_cluster.share(\n",
        "    users=[\"<email_to_runhouse_account>\"],\n",
        "    access_type=\"write\",\n",
        ")"
<<<<<<< HEAD
      ],
      "metadata": {
        "id": "zJ1-MFVaVMpy"
      },
      "execution_count": null,
      "outputs": []
    },
    {
      "cell_type": "markdown",
      "source": [
        "Now, you, or whoever you shared it with, can reload this function from anther dev environment (like a different Colab, local, or on a cluster), as long as you are logged in to your Runhouse account."
      ],
      "metadata": {
        "id": "8xeyvvCTUcyG"
      }
    },
    {
      "cell_type": "code",
      "source": [
        "reloaded_function = rh.function(name=\"num_cpus_cluster\")\n",
        "reloaded_function()"
      ],
=======
      ]
    },
    {
      "cell_type": "markdown",
      "metadata": {
        "id": "8xeyvvCTUcyG"
      },
      "source": [
        "Now, you, or whoever you shared it with, can reload this function from anther dev environment (like a different Colab, local, or on a cluster), as long as you are logged in to your Runhouse account."
      ]
    },
    {
      "cell_type": "code",
      "execution_count": null,
>>>>>>> 0841b2d (add docs/notebook folder for ipynb)
      "metadata": {
        "colab": {
          "base_uri": "https://localhost:8080/",
          "height": 194
        },
        "id": "XZwd0xnUUcXg",
        "outputId": "d97d8991-b614-48e8-93fd-0e61d9117837"
      },
<<<<<<< HEAD
      "execution_count": null,
      "outputs": [
        {
          "output_type": "stream",
          "name": "stdout",
=======
      "outputs": [
        {
          "name": "stdout",
          "output_type": "stream",
>>>>>>> 0841b2d (add docs/notebook folder for ipynb)
          "text": [
            "INFO | 2023-05-05 14:32:34,922 | Attempting to load config for /carolineechen/num_cpus_cluster from RNS.\n",
            "INFO | 2023-05-05 14:32:35,708 | Attempting to load config for /carolineechen/cpu-cluster from RNS.\n",
            "INFO | 2023-05-05 14:32:36,785 | Setting up Function on cluster.\n",
            "INFO | 2023-05-05 14:32:48,041 | Copying local package content to cluster <cpu-cluster>\n",
            "INFO | 2023-05-05 14:32:50,491 | Installing packages on cluster cpu-cluster: ['./']\n",
            "INFO | 2023-05-05 14:32:50,862 | Function setup complete.\n",
            "INFO | 2023-05-05 14:32:50,863 | Running num_cpus_cluster via gRPC\n",
            "INFO | 2023-05-05 14:32:51,271 | Time to send message: 0.41 seconds\n"
          ]
        },
        {
<<<<<<< HEAD
          "output_type": "execute_result",
          "data": {
            "text/plain": [
              "'Num cpus: 8'"
            ],
            "application/vnd.google.colaboratory.intrinsic+json": {
              "type": "string"
            }
          },
          "metadata": {},
          "execution_count": 27
        }
=======
          "data": {
            "application/vnd.google.colaboratory.intrinsic+json": {
              "type": "string"
            },
            "text/plain": [
              "'Num cpus: 8'"
            ]
          },
          "execution_count": 27,
          "metadata": {},
          "output_type": "execute_result"
        }
      ],
      "source": [
        "reloaded_function = rh.function(name=\"num_cpus_cluster\")\n",
        "reloaded_function()"
>>>>>>> 0841b2d (add docs/notebook folder for ipynb)
      ]
    },
    {
      "cell_type": "markdown",
<<<<<<< HEAD
=======
      "metadata": {
        "id": "09KgSHAYTFsg"
      },
>>>>>>> 0841b2d (add docs/notebook folder for ipynb)
      "source": [
        "## Terminate the Cluster\n",
        "\n",
        "To terminate the cluster, you can run:"
<<<<<<< HEAD
      ],
      "metadata": {
        "id": "09KgSHAYTFsg"
      }
    },
    {
      "cell_type": "code",
      "source": [
        "cluster.teardown()"
      ],
=======
      ]
    },
    {
      "cell_type": "code",
      "execution_count": null,
>>>>>>> 0841b2d (add docs/notebook folder for ipynb)
      "metadata": {
        "colab": {
          "base_uri": "https://localhost:8080/",
          "height": 34
        },
        "id": "Ngau3JnqRz-b",
        "outputId": "2dba1b64-501b-46b9-9109-806b6e32dfcd"
      },
<<<<<<< HEAD
      "execution_count": null,
      "outputs": [
        {
          "output_type": "display_data",
          "data": {
            "text/plain": [
              "\u001b[32m⠇\u001b[0m \u001b[1;36mTerminating \u001b[0m\u001b[1;32mcpu-cluster\u001b[0m\n"
            ],
            "text/html": [
              "<pre style=\"white-space:pre;overflow-x:auto;line-height:normal;font-family:Menlo,'DejaVu Sans Mono',consolas,'Courier New',monospace\"><span style=\"color: #008000; text-decoration-color: #008000\">⠇</span> <span style=\"color: #008080; text-decoration-color: #008080; font-weight: bold\">Terminating </span><span style=\"color: #008000; text-decoration-color: #008000; font-weight: bold\">cpu-cluster</span>\n",
              "</pre>\n"
            ]
          },
          "metadata": {}
        },
        {
          "output_type": "display_data",
          "data": {
            "text/plain": [],
            "text/html": [
              "<pre style=\"white-space:pre;overflow-x:auto;line-height:normal;font-family:Menlo,'DejaVu Sans Mono',consolas,'Courier New',monospace\"></pre>\n"
            ]
          },
          "metadata": {}
        }
=======
      "outputs": [
        {
          "data": {
            "text/html": [
              "<pre style=\"white-space:pre;overflow-x:auto;line-height:normal;font-family:Menlo,'DejaVu Sans Mono',consolas,'Courier New',monospace\"><span style=\"color: #008000; text-decoration-color: #008000\">⠇</span> <span style=\"color: #008080; text-decoration-color: #008080; font-weight: bold\">Terminating </span><span style=\"color: #008000; text-decoration-color: #008000; font-weight: bold\">cpu-cluster</span>\n",
              "</pre>\n"
            ],
            "text/plain": [
              "\u001b[32m⠇\u001b[0m \u001b[1;36mTerminating \u001b[0m\u001b[1;32mcpu-cluster\u001b[0m\n"
            ]
          },
          "metadata": {},
          "output_type": "display_data"
        },
        {
          "data": {
            "text/html": [
              "<pre style=\"white-space:pre;overflow-x:auto;line-height:normal;font-family:Menlo,'DejaVu Sans Mono',consolas,'Courier New',monospace\"></pre>\n"
            ],
            "text/plain": []
          },
          "metadata": {},
          "output_type": "display_data"
        }
      ],
      "source": [
        "cluster.teardown()"
>>>>>>> 0841b2d (add docs/notebook folder for ipynb)
      ]
    },
    {
      "cell_type": "markdown",
<<<<<<< HEAD
=======
      "metadata": {
        "id": "200_ff12Vbda"
      },
>>>>>>> 0841b2d (add docs/notebook folder for ipynb)
      "source": [
        "## Summary\n",
        "\n",
        "Here, we demonstrated how to use runhouse to create references to remote clusters, run local functions on the cluster, and save/share and reuse functions with a Runhouse account.\n",
        "\n",
        "Runhouse also lets you:\n",
        "- Send and save data (folders, blobs, tables) between local, remote, and file storage\n",
        "- Send, save, and share dev environments\n",
        "- Reload and reuse saved resources (both compute and data) from different environments (with a Runhouse account)\n",
        "- ... and much more!"
<<<<<<< HEAD
      ],
      "metadata": {
        "id": "200_ff12Vbda"
      }
    },
    {
      "cell_type": "code",
      "source": [],
      "metadata": {
        "id": "foGmP9lIWMMQ"
      },
      "execution_count": null,
      "outputs": []
    }
  ]
=======
      ]
    },
    {
      "cell_type": "code",
      "execution_count": null,
      "metadata": {
        "id": "foGmP9lIWMMQ"
      },
      "outputs": [],
      "source": []
    }
  ],
  "metadata": {
    "colab": {
      "provenance": []
    },
    "kernelspec": {
      "display_name": "Python 3",
      "language": "python",
      "name": "python3"
    },
    "language_info": {
      "name": "python",
      "version": "3.11.2 (main, Feb 16 2023, 02:55:59) [Clang 14.0.0 (clang-1400.0.29.202)]"
    },
    "vscode": {
      "interpreter": {
        "hash": "b0fa6594d8f4cbf19f97940f81e996739fb7646882a419484c72d19e05852a7e"
      }
    }
  },
  "nbformat": 4,
  "nbformat_minor": 0
>>>>>>> 0841b2d (add docs/notebook folder for ipynb)
}
